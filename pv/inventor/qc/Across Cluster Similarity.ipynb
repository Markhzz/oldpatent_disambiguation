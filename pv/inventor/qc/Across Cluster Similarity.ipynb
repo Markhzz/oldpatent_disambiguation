{
 "cells": [
  {
   "cell_type": "code",
   "execution_count": 5,
   "metadata": {
    "ExecuteTime": {
     "end_time": "2020-09-28T20:00:20.169820Z",
     "start_time": "2020-09-28T20:00:20.159875Z"
    }
   },
   "outputs": [],
   "source": [
    "import pymysql\n",
    "import configparser\n",
    "import pandas as pd\n",
    "import matplotlib.pyplot as plt\n",
    "import numpy as np\n",
    "\n",
    "from itertools import combinations\n",
    "\n",
    "from tqdm.notebook import tqdm"
   ]
  },
  {
   "cell_type": "code",
   "execution_count": 2,
   "metadata": {
    "ExecuteTime": {
     "end_time": "2020-09-28T20:00:06.616660Z",
     "start_time": "2020-09-28T20:00:06.570842Z"
    },
    "scrolled": true
   },
   "outputs": [
    {
     "data": {
      "text/plain": [
       "['./resource/db.ini']"
      ]
     },
     "execution_count": 2,
     "metadata": {},
     "output_type": "execute_result"
    }
   ],
   "source": [
    "config = configparser.ConfigParser()\n",
    "filename = './resource/db.ini'\n",
    "config.read(filename)"
   ]
  },
  {
   "cell_type": "code",
   "execution_count": 3,
   "metadata": {
    "ExecuteTime": {
     "end_time": "2020-09-28T20:00:06.635878Z",
     "start_time": "2020-09-28T20:00:06.621147Z"
    }
   },
   "outputs": [],
   "source": [
    "connection = pymysql.connect(host=config['DATABASE']['HOST'],\n",
    "                             user=config['DATABASE']['USERNAME'],\n",
    "                             password=config['DATABASE']['PASSWORD'],\n",
    "                             db=\"patent_20200630\",\n",
    "                             charset='utf8mb4',\n",
    "                             defer_connect=True)"
   ]
  },
  {
   "cell_type": "code",
   "execution_count": 4,
   "metadata": {
    "ExecuteTime": {
     "end_time": "2020-09-28T19:34:06.785714Z",
     "start_time": "2020-09-28T19:34:06.619298Z"
    }
   },
   "outputs": [],
   "source": [
    "if not connection.open:\n",
    "    connection.connect()\n",
    "with connection.cursor() as cursor:\n",
    "    cursor.execute(\"Select 1\")"
   ]
  },
  {
   "cell_type": "code",
   "execution_count": 5,
   "metadata": {
    "ExecuteTime": {
     "end_time": "2020-09-28T19:34:08.210147Z",
     "start_time": "2020-09-28T19:34:08.203579Z"
    }
   },
   "outputs": [],
   "source": [
    "def get_dataframe_from_pymysql_cursor(connection, query):\n",
    "    if not connection.open:\n",
    "        connection.connect()\n",
    "    with connection.cursor() as cursor:\n",
    "        cursor.execute(query)\n",
    "        results = pd.DataFrame(cursor.fetchall(),\n",
    "                               columns=[i[0] for i in cursor.description])\n",
    "    return results"
   ]
  },
  {
   "cell_type": "markdown",
   "metadata": {},
   "source": [
    "# Canonical Name Assignment"
   ]
  },
  {
   "cell_type": "code",
   "execution_count": null,
   "metadata": {
    "ExecuteTime": {
     "end_time": "2020-09-25T15:36:52.380339Z",
     "start_time": "2020-09-25T15:36:52.370771Z"
    }
   },
   "outputs": [],
   "source": [
    "limit = 10000\n",
    "offset=0"
   ]
  },
  {
   "cell_type": "code",
   "execution_count": null,
   "metadata": {
    "ExecuteTime": {
     "end_time": "2020-09-25T15:36:52.713283Z",
     "start_time": "2020-09-25T15:36:52.708133Z"
    }
   },
   "outputs": [],
   "source": [
    "new_data_id_query_template = \"\"\"\n",
    "SELECT disambiguated_id \n",
    "from tmp_inventor_disambiguation_granted_ids order by disambiguated_id limit {l} offset {o}\n",
    "\"\"\"\n",
    "\n",
    "new_data_query_template = \"\"\"\n",
    "SELECT tidg.disambiguated_id , r.name_first, r.name_last from tmp_inventor_disambiguation_granted tidg\n",
    "         join ({id_query}) tidg2\n",
    "              on tidg2.disambiguated_id = tidg.disambiguated_id\n",
    "         join rawinventor r on tidg.uuid = r.uuid order by tidg.disambiguated_id\n",
    "\"\"\""
   ]
  },
  {
   "cell_type": "code",
   "execution_count": null,
   "metadata": {
    "ExecuteTime": {
     "end_time": "2020-09-25T15:47:56.637768Z",
     "start_time": "2020-09-25T15:36:59.821927Z"
    }
   },
   "outputs": [],
   "source": [
    "pbar = tqdm(total=17987248)\n",
    "mode='w'\n",
    "while True:\n",
    "    id_query = new_data_id_query_template.format(l=limit, o=offset)\n",
    "    data_query = new_data_query_template.format(id_query=id_query)\n",
    "    current_df = get_dataframe_from_pymysql_cursor(connection, data_query)\n",
    "    if current_df.shape[0] < 1:\n",
    "        break\n",
    "    count_frame = current_df.groupby(\n",
    "        [\"disambiguated_id\", \"name_first\",\n",
    "         \"name_last\"]).agg(len).reset_index().rename({0: \"count\"}, axis=1)\n",
    "\n",
    "    inventors_data = count_frame.sort_values(\n",
    "        \"count\",\n",
    "        ascending=False).groupby(\"disambiguated_id\").head(1).reset_index(\n",
    "            drop=True).drop(\"count\", axis=1)\n",
    "    inventors_data.to_csv(\"./data/tmp_inventor_disambig_canonical_names.csv\",\n",
    "                          index=False,\n",
    "                          mode=mode)\n",
    "    mode='a'\n",
    "    pbar.update(limit)\n",
    "    offset += limit\n",
    "pbar.close()"
   ]
  },
  {
   "cell_type": "code",
   "execution_count": null,
   "metadata": {
    "ExecuteTime": {
     "end_time": "2020-09-25T18:08:29.645837Z",
     "start_time": "2020-09-25T18:07:22.495599Z"
    }
   },
   "outputs": [],
   "source": [
    "old_data_cluster_names = get_dataframe_from_pymysql_cursor(\n",
    "    connection, \"SELECT id, name_first, name_last from inventor\")"
   ]
  },
  {
   "cell_type": "code",
   "execution_count": null,
   "metadata": {
    "ExecuteTime": {
     "end_time": "2020-09-25T18:09:26.494126Z",
     "start_time": "2020-09-25T18:09:26.473973Z"
    }
   },
   "outputs": [],
   "source": [
    "def calculate_cluster_distances(cluster_data):\n",
    "    distance_map = {\n",
    "        \"levenshtein\": distance,\n",
    "        'jaro': jaro,\n",
    "        'jaro_winkler': jaro_winkler\n",
    "    }\n",
    "    current_cluster_stats = {\n",
    "        'N': cluster_data.shape[0],\n",
    "        'levenshtein': 0,\n",
    "        'jaro': 0,\n",
    "        'jaro_winkler': 0\n",
    "    }\n",
    "    if cluster_data.shape[0] == 1:\n",
    "        current_cluster_stats['levenshtein'] = None\n",
    "        current_cluster_stats['jaro'] = None\n",
    "        current_cluster_stats['jaro_winkler'] = None\n",
    "    elif cluster_data.shape[0] > 0:\n",
    "        for x in combinations(cluster_data.inventor_name, 2):\n",
    "            for distance_method, distance_function in distance_map.items():\n",
    "                #                 print(\"DIstance between {f} and {s} under {m} is {d}\".format(\n",
    "                #                     f=x[0],\n",
    "                #                     s=x[1],\n",
    "                #                     m=distance_method,\n",
    "                #                     d=distance_function(x[0], x[1])))\n",
    "                current_cluster_stats[distance_method] += distance_function(\n",
    "                    x[0], x[1])\n",
    "\n",
    "    return (pd.Series(current_cluster_stats))"
   ]
  },
  {
   "cell_type": "code",
   "execution_count": null,
   "metadata": {
    "ExecuteTime": {
     "end_time": "2020-09-25T18:18:32.000446Z",
     "start_time": "2020-09-25T18:18:08.098931Z"
    }
   },
   "outputs": [],
   "source": [
    "\n",
    "\n",
    "old_data_cluster_names.to_csv(\"./data/inventor_disambig_canonical_names.csv\", index=False)"
   ]
  },
  {
   "cell_type": "markdown",
   "metadata": {},
   "source": []
  },
  {
   "cell_type": "code",
   "execution_count": 3,
   "metadata": {
    "ExecuteTime": {
     "end_time": "2020-09-28T19:50:05.167179Z",
     "start_time": "2020-09-28T19:50:05.161878Z"
    }
   },
   "outputs": [],
   "source": [
    "from itertools import combinations"
   ]
  },
  {
   "cell_type": "code",
   "execution_count": 6,
   "metadata": {
    "ExecuteTime": {
     "end_time": "2020-09-28T20:00:32.387851Z",
     "start_time": "2020-09-28T20:00:21.650801Z"
    }
   },
   "outputs": [],
   "source": [
    "new_data=pd.read_csv(\"./data/tmp_inventor_disambig_canonical_names.csv\")\n",
    "new_data.set_index(\"disambiguated_id\", inplace=True)"
   ]
  },
  {
   "cell_type": "code",
   "execution_count": 14,
   "metadata": {
    "ExecuteTime": {
     "end_time": "2020-09-28T20:04:31.489629Z",
     "start_time": "2020-09-28T20:04:31.480834Z"
    }
   },
   "outputs": [
    {
     "data": {
      "text/plain": [
       "(3455267, 2)"
      ]
     },
     "execution_count": 14,
     "metadata": {},
     "output_type": "execute_result"
    }
   ],
   "source": [
    "new_data.shape\n"
   ]
  },
  {
   "cell_type": "code",
   "execution_count": null,
   "metadata": {
    "ExecuteTime": {
     "start_time": "2020-09-28T20:06:50.251Z"
    }
   },
   "outputs": [],
   "source": [
    "mode='w'\n",
    "for c in tqdm(combinations(new_data.index, 2), total=5969433293011):\n",
    "    rows = pd.concat([new_data.loc[c[0]].reset_index(), new_data.loc[c[1]].reset_index()],keys=['x','y'], axis=1)\n",
    "    rows.columns=[\"_\".join(x) for x in rows.columns]\n",
    "    rows.to_csv(\"./data/new_disambig_combinations.csv\", index=False, mode=mode)"
   ]
  },
  {
   "cell_type": "code",
   "execution_count": null,
   "metadata": {
    "ExecuteTime": {
     "start_time": "2020-09-28T19:50:20.366Z"
    }
   },
   "outputs": [],
   "source": [
    "for x, y in zip(*combinations(new_data.index, 2)):\n",
    "    print(x)\n",
    "    print(y)\n",
    "    break"
   ]
  },
  {
   "cell_type": "code",
   "execution_count": null,
   "metadata": {
    "ExecuteTime": {
     "start_time": "2020-09-25T19:29:55.129Z"
    }
   },
   "outputs": [],
   "source": [
    "inventor_combination = pd.concat(\n",
    "    [new_data.loc[x].reset_index(), new_data.loc[y].reset_index()],\n",
    "    \n",
    ")"
   ]
  },
  {
   "cell_type": "code",
   "execution_count": null,
   "metadata": {
    "ExecuteTime": {
     "start_time": "2020-09-25T19:30:00.388Z"
    }
   },
   "outputs": [],
   "source": []
  },
  {
   "cell_type": "code",
   "execution_count": 112,
   "metadata": {
    "ExecuteTime": {
     "end_time": "2020-09-25T19:07:42.676876Z",
     "start_time": "2020-09-25T19:07:42.672157Z"
    }
   },
   "outputs": [],
   "source": []
  },
  {
   "cell_type": "code",
   "execution_count": null,
   "metadata": {},
   "outputs": [],
   "source": []
  }
 ],
 "metadata": {
  "kernelspec": {
   "display_name": "Python 3",
   "language": "python",
   "name": "python3"
  },
  "language_info": {
   "codemirror_mode": {
    "name": "ipython",
    "version": 3
   },
   "file_extension": ".py",
   "mimetype": "text/x-python",
   "name": "python",
   "nbconvert_exporter": "python",
   "pygments_lexer": "ipython3",
   "version": "3.8.3"
  }
 },
 "nbformat": 4,
 "nbformat_minor": 4
}
