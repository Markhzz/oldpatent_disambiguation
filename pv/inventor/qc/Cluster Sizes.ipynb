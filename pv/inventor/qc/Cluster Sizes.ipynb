{
 "cells": [
  {
   "cell_type": "code",
   "execution_count": 4,
   "metadata": {
    "ExecuteTime": {
     "end_time": "2020-09-30T15:59:40.266111Z",
     "start_time": "2020-09-30T15:59:40.257027Z"
    }
   },
   "outputs": [],
   "source": [
    "import configparser\n",
    "import pymysql\n",
    "import pandas as pd\n",
    "import matplotlib.pyplot as plt"
   ]
  },
  {
   "cell_type": "code",
   "execution_count": 9,
   "metadata": {
    "ExecuteTime": {
     "end_time": "2020-09-30T16:00:29.934777Z",
     "start_time": "2020-09-30T16:00:29.899760Z"
    }
   },
   "outputs": [],
   "source": [
    "import importlib\n",
    "import src.utils\n",
    "importlib.reload(src.utils)\n",
    "from src.utils import get_dataframe_from_pymysql_cursor, generate_comparitive_violin_plot"
   ]
  },
  {
   "cell_type": "code",
   "execution_count": 10,
   "metadata": {
    "ExecuteTime": {
     "end_time": "2020-09-30T16:00:31.106925Z",
     "start_time": "2020-09-30T16:00:31.087885Z"
    },
    "scrolled": true
   },
   "outputs": [
    {
     "data": {
      "text/plain": [
       "['./resource/db.ini']"
      ]
     },
     "execution_count": 10,
     "metadata": {},
     "output_type": "execute_result"
    }
   ],
   "source": [
    "config = configparser.ConfigParser()\n",
    "filename = './resource/db.ini'\n",
    "config.read(filename)"
   ]
  },
  {
   "cell_type": "code",
   "execution_count": 11,
   "metadata": {
    "ExecuteTime": {
     "end_time": "2020-09-30T16:00:32.327691Z",
     "start_time": "2020-09-30T16:00:32.320976Z"
    }
   },
   "outputs": [],
   "source": [
    "connection = pymysql.connect(host=config['DATABASE']['HOST'],\n",
    "                             user=config['DATABASE']['USERNAME'],\n",
    "                             password=config['DATABASE']['PASSWORD'],\n",
    "                             db=\"patent_20200929\",\n",
    "                             charset='utf8mb4',\n",
    "                             defer_connect=True)"
   ]
  },
  {
   "cell_type": "markdown",
   "metadata": {},
   "source": [
    "# Size of each cluster (Before/After)"
   ]
  },
  {
   "cell_type": "code",
   "execution_count": 12,
   "metadata": {
    "ExecuteTime": {
     "end_time": "2020-09-30T16:02:50.566932Z",
     "start_time": "2020-09-30T16:00:33.212364Z"
    }
   },
   "outputs": [],
   "source": [
    "old_disambig_data_query = \"\"\"\n",
    "select count(1) as cluster_size, inventor_id\n",
    "from rawinventor\n",
    "group by inventor_id\n",
    "\"\"\"\n",
    "\n",
    "old_disambig_data=get_dataframe_from_pymysql_cursor(connection, old_disambig_data_query)"
   ]
  },
  {
   "cell_type": "code",
   "execution_count": 13,
   "metadata": {
    "ExecuteTime": {
     "end_time": "2020-09-30T16:05:02.258384Z",
     "start_time": "2020-09-30T16:02:50.570199Z"
    }
   },
   "outputs": [],
   "source": [
    "new_disambig_data_query = \"\"\"\n",
    "SELECT disambiguated_id, count(1) as cluster_size\n",
    "from tmp_inventor_disambiguation_granted\n",
    "group by disambiguated_id;\n",
    "\"\"\"\n",
    "\n",
    "new_disambig_data=get_dataframe_from_pymysql_cursor(connection, new_disambig_data_query)"
   ]
  },
  {
   "cell_type": "code",
   "execution_count": 18,
   "metadata": {
    "ExecuteTime": {
     "end_time": "2020-09-30T16:42:41.361240Z",
     "start_time": "2020-09-30T16:42:40.944729Z"
    }
   },
   "outputs": [
    {
     "data": {
      "text/html": [
       "<div>\n",
       "<style scoped>\n",
       "    .dataframe tbody tr th:only-of-type {\n",
       "        vertical-align: middle;\n",
       "    }\n",
       "\n",
       "    .dataframe tbody tr th {\n",
       "        vertical-align: top;\n",
       "    }\n",
       "\n",
       "    .dataframe thead th {\n",
       "        text-align: right;\n",
       "    }\n",
       "</style>\n",
       "<table border=\"1\" class=\"dataframe\">\n",
       "  <thead>\n",
       "    <tr style=\"text-align: right;\">\n",
       "      <th></th>\n",
       "      <th>cluster_size_old</th>\n",
       "      <th>cluster_size_new</th>\n",
       "    </tr>\n",
       "  </thead>\n",
       "  <tbody>\n",
       "    <tr>\n",
       "      <th>count</th>\n",
       "      <td>3.976284e+06</td>\n",
       "      <td>3.455954e+06</td>\n",
       "    </tr>\n",
       "    <tr>\n",
       "      <th>mean</th>\n",
       "      <td>4.523643e+00</td>\n",
       "      <td>5.206058e+00</td>\n",
       "    </tr>\n",
       "    <tr>\n",
       "      <th>std</th>\n",
       "      <td>1.329402e+01</td>\n",
       "      <td>1.422315e+01</td>\n",
       "    </tr>\n",
       "    <tr>\n",
       "      <th>min</th>\n",
       "      <td>1.000000e+00</td>\n",
       "      <td>1.000000e+00</td>\n",
       "    </tr>\n",
       "    <tr>\n",
       "      <th>25%</th>\n",
       "      <td>1.000000e+00</td>\n",
       "      <td>1.000000e+00</td>\n",
       "    </tr>\n",
       "    <tr>\n",
       "      <th>50%</th>\n",
       "      <td>1.000000e+00</td>\n",
       "      <td>2.000000e+00</td>\n",
       "    </tr>\n",
       "    <tr>\n",
       "      <th>75%</th>\n",
       "      <td>4.000000e+00</td>\n",
       "      <td>4.000000e+00</td>\n",
       "    </tr>\n",
       "    <tr>\n",
       "      <th>max</th>\n",
       "      <td>5.767000e+03</td>\n",
       "      <td>5.762000e+03</td>\n",
       "    </tr>\n",
       "  </tbody>\n",
       "</table>\n",
       "</div>"
      ],
      "text/plain": [
       "       cluster_size_old  cluster_size_new\n",
       "count      3.976284e+06      3.455954e+06\n",
       "mean       4.523643e+00      5.206058e+00\n",
       "std        1.329402e+01      1.422315e+01\n",
       "min        1.000000e+00      1.000000e+00\n",
       "25%        1.000000e+00      1.000000e+00\n",
       "50%        1.000000e+00      2.000000e+00\n",
       "75%        4.000000e+00      4.000000e+00\n",
       "max        5.767000e+03      5.762000e+03"
      ]
     },
     "execution_count": 18,
     "metadata": {},
     "output_type": "execute_result"
    }
   ],
   "source": [
    "old_stats=pd.DataFrame(old_disambig_data.describe())\n",
    "\n",
    "new_stats= pd.DataFrame(new_disambig_data.describe())\n",
    "\n",
    "old_stats.join(new_stats,lsuffix=\"_old\", rsuffix=\"_new\")"
   ]
  },
  {
   "cell_type": "code",
   "execution_count": 19,
   "metadata": {
    "ExecuteTime": {
     "end_time": "2020-09-30T16:43:16.119382Z",
     "start_time": "2020-09-30T16:42:42.959857Z"
    }
   },
   "outputs": [],
   "source": [
    "fig,plots = generate_comparitive_violin_plot(old_disambig_data.cluster_size, new_disambig_data.cluster_size, log=True)"
   ]
  },
  {
   "cell_type": "code",
   "execution_count": 36,
   "metadata": {
    "ExecuteTime": {
     "end_time": "2020-09-30T16:51:18.930698Z",
     "start_time": "2020-09-30T16:51:18.909960Z"
    }
   },
   "outputs": [
    {
     "data": {
      "text/plain": [
       "[]"
      ]
     },
     "execution_count": 36,
     "metadata": {},
     "output_type": "execute_result"
    }
   ],
   "source": [
    "plots[0].set_ylabel(\"Log of Cluster Sizes\")\n",
    "plots[0].set_title(\"Cluster Size (Old Disambiguation)\")\n",
    "plots[0].set_xticks([])\n",
    "plots[1].set_ylabel(\"Log of Cluster Sizes\")\n",
    "plots[1].set_title(\"Cluster Size (New Disambiguation)\")\n",
    "plots[0].set_xticks([])"
   ]
  },
  {
   "cell_type": "code",
   "execution_count": 37,
   "metadata": {
    "ExecuteTime": {
     "end_time": "2020-09-30T16:51:21.131008Z",
     "start_time": "2020-09-30T16:51:20.926932Z"
    }
   },
   "outputs": [
    {
     "data": {
      "image/png": "[encoded data removed]",
      "text/plain": [
       "<Figure size 1080x720 with 2 Axes>"
      ]
     },
     "execution_count": 37,
     "metadata": {},
     "output_type": "execute_result"
    }
   ],
   "source": [
    "fig"
   ]
  }
 ],
 "metadata": {
  "kernelspec": {
   "display_name": "Python 3",
   "language": "python",
   "name": "python3"
  },
  "language_info": {
   "codemirror_mode": {
    "name": "ipython",
    "version": 3
   },
   "file_extension": ".py",
   "mimetype": "text/x-python",
   "name": "python",
   "nbconvert_exporter": "python",
   "pygments_lexer": "ipython3",
   "version": "3.8.5"
  }
 },
 "nbformat": 4,
 "nbformat_minor": 4
}
