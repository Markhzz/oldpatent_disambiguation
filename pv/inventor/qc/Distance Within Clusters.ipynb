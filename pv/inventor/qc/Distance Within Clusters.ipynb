{
 "cells": [
  {
   "cell_type": "code",
   "execution_count": 7,
   "metadata": {
    "ExecuteTime": {
     "end_time": "2020-09-30T16:52:04.872754Z",
     "start_time": "2020-09-30T16:52:04.861983Z"
    }
   },
   "outputs": [],
   "source": [
    "import pymysql\n",
    "import configparser\n",
    "import pandas as pd\n",
    "import matplotlib.pyplot as plt\n",
    "import numpy as np\n",
    "\n",
    "from itertools import combinations\n",
    "\n",
    "from tqdm.notebook import tqdm\n",
    "import pymysql\n",
    "import configparser\n",
    "import pandas as pd\n",
    "import matplotlib.pyplot as plt\n",
    "import numpy as np"
   ]
  },
  {
   "cell_type": "code",
   "execution_count": 15,
   "metadata": {
    "ExecuteTime": {
     "end_time": "2020-09-30T16:53:46.283168Z",
     "start_time": "2020-09-30T16:53:46.193377Z"
    }
   },
   "outputs": [],
   "source": [
    "import importlib\n",
    "import src.utils\n",
    "importlib.reload(src.utils)\n",
    "from src.utils import get_dataframe_from_pymysql_cursor, generate_comparitive_violin_plot"
   ]
  },
  {
   "cell_type": "code",
   "execution_count": 8,
   "metadata": {
    "ExecuteTime": {
     "end_time": "2020-09-30T16:52:05.006212Z",
     "start_time": "2020-09-30T16:52:04.969754Z"
    },
    "scrolled": true
   },
   "outputs": [
    {
     "data": {
      "text/plain": [
       "['./resource/db.ini']"
      ]
     },
     "execution_count": 8,
     "metadata": {},
     "output_type": "execute_result"
    }
   ],
   "source": [
    "config = configparser.ConfigParser()\n",
    "filename = './resource/db.ini'\n",
    "config.read(filename)"
   ]
  },
  {
   "cell_type": "code",
   "execution_count": 9,
   "metadata": {
    "ExecuteTime": {
     "end_time": "2020-09-30T16:52:05.852192Z",
     "start_time": "2020-09-30T16:52:05.844165Z"
    }
   },
   "outputs": [],
   "source": [
    "connection = pymysql.connect(host=config['DATABASE']['HOST'],\n",
    "                             user=config['DATABASE']['USERNAME'],\n",
    "                             password=config['DATABASE']['PASSWORD'],\n",
    "                             db=\"patent_20200630\",\n",
    "                             charset='utf8mb4',\n",
    "                             defer_connect=True)"
   ]
  },
  {
   "cell_type": "code",
   "execution_count": 10,
   "metadata": {
    "ExecuteTime": {
     "end_time": "2020-09-30T16:52:07.369378Z",
     "start_time": "2020-09-30T16:52:07.360556Z"
    }
   },
   "outputs": [],
   "source": [
    "old_data_distances = []\n",
    "new_data_distances = []"
   ]
  },
  {
   "cell_type": "code",
   "execution_count": 11,
   "metadata": {
    "ExecuteTime": {
     "end_time": "2020-09-30T16:52:08.074578Z",
     "start_time": "2020-09-30T16:52:08.070104Z"
    }
   },
   "outputs": [],
   "source": [
    "old_data_id_query_template = \"\"\"\n",
    "SELECT id from inventor order by id limit {l} offset {o}\n",
    "\"\"\"\n",
    "\n",
    "old_data_query_template = \"\"\"\n",
    "SELECT r.inventor_id , CONCAT_WS(' ',r.name_first, r.name_last) inventor_name from rawinventor r join ({id_query}) id on id.id = r.inventor_id order by r.inventor_id\n",
    "\"\"\""
   ]
  },
  {
   "cell_type": "code",
   "execution_count": 12,
   "metadata": {
    "ExecuteTime": {
     "end_time": "2020-09-30T16:52:08.222001Z",
     "start_time": "2020-09-30T16:52:08.217269Z"
    }
   },
   "outputs": [],
   "source": [
    "limit = 50000\n",
    "offset = 0"
   ]
  },
  {
   "cell_type": "code",
   "execution_count": 12,
   "metadata": {
    "ExecuteTime": {
     "end_time": "2020-09-28T21:38:15.562692Z",
     "start_time": "2020-09-28T20:46:00.253557Z"
    }
   },
   "outputs": [
    {
     "data": {
      "application/vnd.jupyter.widget-view+json": {
       "model_id": "0254f82bb8cc4bbd8c434642efe777a2",
       "version_major": 2,
       "version_minor": 0
      },
      "text/plain": [
       "HBox(children=(HTML(value=''), FloatProgress(value=0.0, max=3977356.0), HTML(value='')))"
      ]
     },
     "metadata": {},
     "output_type": "display_data"
    },
    {
     "name": "stdout",
     "output_type": "stream",
     "text": [
      "\n"
     ]
    }
   ],
   "source": [
    "pbar = tqdm(total=3977356)\n",
    "mode='w'\n",
    "while True:\n",
    "    id_query = old_data_id_query_template.format(l=limit, o=offset)\n",
    "    data_query = old_data_query_template.format(id_query=id_query)\n",
    "    current_df = get_dataframe_from_pymysql_cursor(connection, data_query)\n",
    "    if current_df.shape[0] < 1:\n",
    "        break\n",
    "    current_sizes =current_df.groupby(\"inventor_id\").apply(calculate_cluster_distances).reset_index()\n",
    "    old_data_distances.append(current_sizes)\n",
    "#     current_sizes.to_csv(\"./data/old_within_cluster_distance.csv\", index=False)\n",
    "#     mode='a'\n",
    "    pbar.update(limit)\n",
    "    offset += limit\n",
    "pbar.close()\n",
    "\n"
   ]
  },
  {
   "cell_type": "code",
   "execution_count": null,
   "metadata": {
    "ExecuteTime": {
     "end_time": "2020-09-28T23:12:51.606745Z",
     "start_time": "2020-09-28T23:12:43.884958Z"
    }
   },
   "outputs": [],
   "source": [
    "old_data_distances_x = pd.concat(old_data_distances)\n",
    "\n"
   ]
  },
  {
   "cell_type": "code",
   "execution_count": 14,
   "metadata": {
    "ExecuteTime": {
     "end_time": "2020-09-28T23:13:05.178099Z",
     "start_time": "2020-09-28T23:13:04.561320Z"
    }
   },
   "outputs": [],
   "source": [
    "old_na_dropped_distances = old_data_distances_x[~old_data_distances_x.levenshtein.isnull()]"
   ]
  },
  {
   "cell_type": "code",
   "execution_count": 15,
   "metadata": {
    "ExecuteTime": {
     "end_time": "2020-09-28T23:14:07.073371Z",
     "start_time": "2020-09-28T23:13:22.887864Z"
    }
   },
   "outputs": [],
   "source": [
    "old_na_dropped_distances.to_csv(\"./data/old_cluster_distances.csv\", index=False)"
   ]
  },
  {
   "cell_type": "code",
   "execution_count": 16,
   "metadata": {
    "ExecuteTime": {
     "end_time": "2020-09-28T23:47:34.938540Z",
     "start_time": "2020-09-28T23:47:34.884033Z"
    }
   },
   "outputs": [],
   "source": [
    "new_data_id_query_template = \"\"\"\n",
    "SELECT disambiguated_id \n",
    "from tmp_inventor_disambiguation_granted_ids order by disambiguated_id limit {l} offset {o}\n",
    "\"\"\"\n",
    "\n",
    "new_data_query_template = \"\"\"\n",
    "SELECT tidg.disambiguated_id , CONCAT_WS(' ',r.name_first, r.name_last) inventor_name from tmp_inventor_disambiguation_granted tidg\n",
    "         join ({id_query}) tidg2\n",
    "              on tidg2.disambiguated_id = tidg.disambiguated_id\n",
    "         join rawinventor r on tidg.uuid = r.uuid order by tidg.disambiguated_id\n",
    "\"\"\""
   ]
  },
  {
   "cell_type": "code",
   "execution_count": 19,
   "metadata": {
    "ExecuteTime": {
     "end_time": "2020-09-28T23:48:11.526429Z",
     "start_time": "2020-09-28T23:48:11.518399Z"
    }
   },
   "outputs": [],
   "source": [
    "limit = 75000\n",
    "offset = 0"
   ]
  },
  {
   "cell_type": "code",
   "execution_count": 21,
   "metadata": {
    "ExecuteTime": {
     "end_time": "2020-09-29T01:00:07.877874Z",
     "start_time": "2020-09-28T23:48:15.788358Z"
    }
   },
   "outputs": [
    {
     "data": {
      "application/vnd.jupyter.widget-view+json": {
       "model_id": "2c2f5a8bdd5a492cbcffb9f0fad7128e",
       "version_major": 2,
       "version_minor": 0
      },
      "text/plain": [
       "HBox(children=(HTML(value=''), FloatProgress(value=0.0, max=3977356.0), HTML(value='')))"
      ]
     },
     "metadata": {},
     "output_type": "display_data"
    },
    {
     "name": "stdout",
     "output_type": "stream",
     "text": [
      "\n",
      "\n"
     ]
    }
   ],
   "source": [
    "pbar = tqdm(total=3977356)\n",
    "while True:\n",
    "    id_query = new_data_id_query_template.format(l=limit, o=offset)\n",
    "    data_query = new_data_query_template.format(id_query=id_query)\n",
    "    current_df = get_dataframe_from_pymysql_cursor(connection, data_query)\n",
    "    if current_df.shape[0] < 1:\n",
    "        break\n",
    "    new_data_distances.append(\n",
    "        current_df.groupby(\"disambiguated_id\").apply(\n",
    "            calculate_cluster_distances).reset_index())\n",
    "    pbar.update(limit)\n",
    "    offset += limit\n",
    "\n",
    "pbar.close()\n"
   ]
  },
  {
   "cell_type": "code",
   "execution_count": 22,
   "metadata": {
    "ExecuteTime": {
     "end_time": "2020-09-29T04:49:16.645834Z",
     "start_time": "2020-09-29T04:49:00.965077Z"
    }
   },
   "outputs": [],
   "source": [
    "\n",
    "new_data_distances_x = pd.concat(new_data_distances)\n",
    "\n",
    "new_na_dropped_distances = new_data_distances_x[~new_data_distances_x.levenshtein.isnull()]"
   ]
  },
  {
   "cell_type": "code",
   "execution_count": 23,
   "metadata": {
    "ExecuteTime": {
     "end_time": "2020-09-29T16:02:58.491626Z",
     "start_time": "2020-09-29T16:02:27.293751Z"
    }
   },
   "outputs": [],
   "source": [
    "new_na_dropped_distances.to_csv(\"./data/new_cluster_distances.csv\", index=False)"
   ]
  },
  {
   "cell_type": "code",
   "execution_count": 13,
   "metadata": {
    "ExecuteTime": {
     "end_time": "2020-09-30T16:53:19.879178Z",
     "start_time": "2020-09-30T16:53:05.990137Z"
    }
   },
   "outputs": [],
   "source": [
    "old_na_dropped_distances = pd.read_csv(\"./data/old_cluster_distances.csv\")\n",
    "new_na_dropped_distances = pd.read_csv(\"./data/new_cluster_distances.csv\")"
   ]
  },
  {
   "cell_type": "code",
   "execution_count": 16,
   "metadata": {
    "ExecuteTime": {
     "end_time": "2020-09-30T16:53:56.851151Z",
     "start_time": "2020-09-30T16:53:49.169061Z"
    }
   },
   "outputs": [],
   "source": [
    "fig, plots = generate_comparitive_violin_plot(\n",
    "    old_na_dropped_distances[\n",
    "        old_na_dropped_distances.levenshtein > 0].levenshtein,\n",
    "    new_na_dropped_distances[\n",
    "        new_na_dropped_distances.levenshtein > 0].levenshtein,\n",
    "    log=True)"
   ]
  },
  {
   "cell_type": "code",
   "execution_count": 17,
   "metadata": {
    "ExecuteTime": {
     "end_time": "2020-09-30T16:54:56.718849Z",
     "start_time": "2020-09-30T16:54:56.705303Z"
    }
   },
   "outputs": [
    {
     "data": {
      "text/plain": [
       "[]"
      ]
     },
     "execution_count": 17,
     "metadata": {},
     "output_type": "execute_result"
    }
   ],
   "source": [
    "plots[0].set_ylabel(\"Log of Levenshtein Distance\")\n",
    "plots[0].set_title(\"Within Cluster Distances (Old Disambiguation)\")\n",
    "plots[0].set_xticks([])\n",
    "plots[1].set_ylabel(\"Log of Levenshtein Distance\")\n",
    "plots[1].set_title(\"Within Cluster Distances (New Disambiguation)\")\n",
    "plots[0].set_xticks([])"
   ]
  },
  {
   "cell_type": "code",
   "execution_count": 18,
   "metadata": {
    "ExecuteTime": {
     "end_time": "2020-09-30T16:54:57.522481Z",
     "start_time": "2020-09-30T16:54:57.295062Z"
    }
   },
   "outputs": [
    {
     "data": {
      "image/png": "[encoded data removed]",
      "text/plain": [
       "<Figure size 1080x720 with 2 Axes>"
      ]
     },
     "execution_count": 18,
     "metadata": {},
     "output_type": "execute_result"
    }
   ],
   "source": [
    "fig"
   ]
  }
 ],
 "metadata": {
  "kernelspec": {
   "display_name": "Python 3",
   "language": "python",
   "name": "python3"
  },
  "language_info": {
   "codemirror_mode": {
    "name": "ipython",
    "version": 3
   },
   "file_extension": ".py",
   "mimetype": "text/x-python",
   "name": "python",
   "nbconvert_exporter": "python",
   "pygments_lexer": "ipython3",
   "version": "3.8.5"
  }
 },
 "nbformat": 4,
 "nbformat_minor": 4
}
